{
 "cells": [
  {
   "cell_type": "markdown",
   "id": "e8665320",
   "metadata": {},
   "source": [
    "# Motivacao\n",
    "\n",
    "Estava assistindo a entrevista do Mario Filho com Leticia, e Ela mencionou esses 100 Exercicios do canal \"Curso em Video\".\n",
    "<br> Hoje (03/10) da tarde, decidi me desafiar com esses exercicios, e quero ver em quantos dias vou conseguir resolver todos.\n",
    "<br> Vou colocar a descricao do exercicio tambem, a solucao sera totalmente minha propria.\n",
    "<br> **Link: https://www.youtube.com/watch?v=nIHq1MtJaKs&list=PLHz_AreHm4dm6wYOIW20Nyg12TAjmMGT-**"
   ]
  },
  {
   "cell_type": "markdown",
   "id": "13b784e7",
   "metadata": {},
   "source": [
    "## Questao 1:\n",
    "\n",
    "### Cria um programa que escreva \"Ola, Mundo!\" na tela"
   ]
  },
  {
   "cell_type": "code",
   "execution_count": null,
   "id": "d2d89fbc",
   "metadata": {},
   "outputs": [],
   "source": []
  },
  {
   "cell_type": "markdown",
   "id": "c892d89f",
   "metadata": {},
   "source": [
    "## Questao 2 \n",
    "\n",
    "### Faca um programa que leia o nome de uma pessoa e mostra uma mensagem de boa-vindas "
   ]
  },
  {
   "cell_type": "code",
   "execution_count": null,
   "id": "5800cf04",
   "metadata": {},
   "outputs": [],
   "source": []
  },
  {
   "cell_type": "markdown",
   "id": "51e33956",
   "metadata": {},
   "source": [
    "# Questao 3\n",
    "\n",
    "## Crie um programa que leia dois numeros e mostra a soma entre eles"
   ]
  },
  {
   "cell_type": "code",
   "execution_count": null,
   "id": "eab9f1d0",
   "metadata": {},
   "outputs": [],
   "source": []
  },
  {
   "cell_type": "markdown",
   "id": "37a13d64",
   "metadata": {},
   "source": [
    "## Questao 4\n",
    " \n",
    "### Faca um programa que leia algo pelo teclado  e mostra na tela seu tipo primitivo e todas as informacoes possiveis sobre ele"
   ]
  },
  {
   "cell_type": "markdown",
   "id": "afb6a3a2",
   "metadata": {},
   "source": [
    "## Questao 5\n",
    "\n",
    "### Faca um programa que leia um numero inteiro e mostra na tela seu sucessor e seu antecessor"
   ]
  },
  {
   "cell_type": "code",
   "execution_count": null,
   "id": "263d146e",
   "metadata": {},
   "outputs": [],
   "source": []
  },
  {
   "cell_type": "markdown",
   "id": "ad8c2f4a",
   "metadata": {},
   "source": [
    "## Questao 6\n",
    "\n",
    "### Crie um algoritmo que leia um numero e mostra seu dobro, triplo e raiz quadrada"
   ]
  },
  {
   "cell_type": "code",
   "execution_count": null,
   "id": "dd4d235a",
   "metadata": {},
   "outputs": [],
   "source": []
  },
  {
   "cell_type": "markdown",
   "id": "9eb09016",
   "metadata": {},
   "source": [
    "## Questao 7\n",
    "\n",
    "### Desenvolva um programa que leia as duas notas de um aluno, calcula e mostra sua media"
   ]
  },
  {
   "cell_type": "code",
   "execution_count": null,
   "id": "f7e0e9fe",
   "metadata": {},
   "outputs": [],
   "source": []
  },
  {
   "cell_type": "markdown",
   "id": "a07becd8",
   "metadata": {},
   "source": [
    "## Questao 8\n",
    "\n",
    "### Escreva um programa que leia um valor em metros e o exiba convertido em centimetros e milimetros"
   ]
  },
  {
   "cell_type": "code",
   "execution_count": null,
   "id": "98c9355b",
   "metadata": {},
   "outputs": [],
   "source": []
  },
  {
   "cell_type": "markdown",
   "id": "20603727",
   "metadata": {},
   "source": [
    "## Questao 9\n",
    "\n",
    "### Faca um programa que leia um numero Inteiro qualquer e mostre na tela a sua tabuada"
   ]
  },
  {
   "cell_type": "code",
   "execution_count": null,
   "id": "f1701ffd",
   "metadata": {},
   "outputs": [],
   "source": []
  },
  {
   "cell_type": "markdown",
   "id": "32af24d6",
   "metadata": {},
   "source": [
    "## Questao 10\n",
    "\n",
    "### Crie um programa que leia quanto dinheiro uma pessoa tem na carteira e mostre quantos dolares ele pode comprar. Considere US1.00 = RS3.27"
   ]
  },
  {
   "cell_type": "code",
   "execution_count": null,
   "id": "96722eba",
   "metadata": {},
   "outputs": [],
   "source": []
  },
  {
   "cell_type": "markdown",
   "id": "e04b3fa1",
   "metadata": {},
   "source": [
    "## Questao 11\n",
    "\n",
    "### Faca um programa que leiaa largura e altura de uma parede em metros, calcula a sua area e quantidade de tinta necessaria para pinta-la, sabendo que cada litro de tinta pinta uma area de 2m^2. "
   ]
  },
  {
   "cell_type": "code",
   "execution_count": null,
   "id": "ad93556f",
   "metadata": {},
   "outputs": [],
   "source": []
  },
  {
   "cell_type": "markdown",
   "id": "e487806c",
   "metadata": {},
   "source": [
    "## Questao 12\n",
    "\n",
    "### Faca um algoritmo que leia o preco de um produto e mostre seu novo preco, com 5% de desconto"
   ]
  },
  {
   "cell_type": "code",
   "execution_count": null,
   "id": "7ae35c19",
   "metadata": {},
   "outputs": [],
   "source": []
  },
  {
   "cell_type": "markdown",
   "id": "d5015860",
   "metadata": {},
   "source": [
    "## Questao 13\n",
    "\n",
    "### Faca um algoritmo que leia o salario de um funcionario  e mostre seu novo salario, com 15% de aumento"
   ]
  },
  {
   "cell_type": "code",
   "execution_count": null,
   "id": "c3a53f62",
   "metadata": {},
   "outputs": [],
   "source": []
  },
  {
   "cell_type": "markdown",
   "id": "ea70ed0c",
   "metadata": {},
   "source": [
    "## Questao 14\n",
    "\n",
    "### Escreva um programa que converta uma temperatura digitada em Celsius e converta para Fahrenheit. \n",
    "### <center> F = C x 1.8 + 32 </center>"
   ]
  },
  {
   "cell_type": "code",
   "execution_count": null,
   "id": "9c6d5a94",
   "metadata": {},
   "outputs": [],
   "source": []
  },
  {
   "cell_type": "markdown",
   "id": "d040b913",
   "metadata": {},
   "source": [
    "## Questao 15\n",
    "\n",
    "### Escreva um programa que pergunte a quantidade de KM percorrido por um carro alugado e quantidade de dias pelos quais ele foi alugado. Calcule o preco a pagar, sabendo que o carro custa RS60,00 por dia e RS0,15 por KM rodado."
   ]
  },
  {
   "cell_type": "code",
   "execution_count": null,
   "id": "1638d5a0",
   "metadata": {},
   "outputs": [],
   "source": []
  },
  {
   "cell_type": "markdown",
   "id": "ecfc4976",
   "metadata": {},
   "source": [
    "## Questao 16\n",
    "\n",
    "###  Crie um programa que leia um numero Real qualquer pelo teclado e mostre na tela a sua porcao inteira.\n",
    "\n",
    " Ex: Digite um numero: 6.127\n",
    "<br> O numero 6.127tem parte inteira 6."
   ]
  },
  {
   "cell_type": "code",
   "execution_count": null,
   "id": "5fd1935b",
   "metadata": {},
   "outputs": [],
   "source": []
  },
  {
   "cell_type": "markdown",
   "id": "c02029d3",
   "metadata": {},
   "source": [
    "## Questao 17\n",
    "\n",
    "### Faca um programa que leia o comprimento do cateto oposto e do cateto adjacente de um triangulo retangulo, calcule e mostre o comprimento da hipotenusa."
   ]
  },
  {
   "cell_type": "code",
   "execution_count": null,
   "id": "821b988b",
   "metadata": {},
   "outputs": [],
   "source": []
  },
  {
   "cell_type": "markdown",
   "id": "5d4c990b",
   "metadata": {},
   "source": [
    "## Questao 18\n",
    "\n",
    "### Faca um programa que leia um angulo qualquer e mostre na tela o valor do seno, cosseno e tangente desse angulo.\\"
   ]
  },
  {
   "cell_type": "code",
   "execution_count": null,
   "id": "d7936ba6",
   "metadata": {},
   "outputs": [],
   "source": []
  },
  {
   "cell_type": "markdown",
   "id": "6c4712ea",
   "metadata": {},
   "source": [
    "## Questao 19\n",
    "\n",
    "### Um professor quer sortear um dos seus quatro alunos para apagaro quadro. Faca um programa que ajuda ele, lendo o nome deles e escrevendo o nome do escolhdo."
   ]
  },
  {
   "cell_type": "code",
   "execution_count": null,
   "id": "51dcc2a4",
   "metadata": {},
   "outputs": [],
   "source": []
  },
  {
   "cell_type": "markdown",
   "id": "8f6467b0",
   "metadata": {},
   "source": [
    "## Questao 20\n",
    "\n",
    "### O mesmo professor do desafio anterior quer sortear  a ordem de apresentacao de trabalhos dos alunos. Faca um programa que leia o nome dos quatro alunos e mostre  a ordem sorteada."
   ]
  },
  {
   "cell_type": "code",
   "execution_count": null,
   "id": "dd69f775",
   "metadata": {},
   "outputs": [],
   "source": []
  },
  {
   "cell_type": "markdown",
   "id": "fa93616a",
   "metadata": {},
   "source": [
    "## Questao 21\n",
    "\n",
    "### Faca um programa em pyhton que abra e reproduza o audio de um arquivo mp3."
   ]
  },
  {
   "cell_type": "code",
   "execution_count": null,
   "id": "f8cfc361",
   "metadata": {},
   "outputs": [],
   "source": []
  },
  {
   "cell_type": "markdown",
   "id": "5704ac46",
   "metadata": {},
   "source": [
    "## Questao 22\n",
    "\n",
    "### Crie um programa que leia o nome completo de uma pessoa e mostre:\n",
    "<b> * O nome com todas as letras maiusculas e minusculas.\n",
    "<br>    * Quantas letras ao todo (sem considerar espacos).\n",
    "<br>    * Quantas letras tem o primeiro nome."
   ]
  },
  {
   "cell_type": "code",
   "execution_count": null,
   "id": "2c33c94e",
   "metadata": {},
   "outputs": [],
   "source": []
  },
  {
   "cell_type": "markdown",
   "id": "47491cdf",
   "metadata": {},
   "source": [
    "## Questao 23\n",
    "\n",
    "### Faca um programa que leia um numero de 0 a 9999 e mostre tela cada um dos digitos separados.\n",
    "\n",
    "**Ex:**\n",
    "<br> Digite um numero: 1834\n",
    "<br> Unidade: 4, dezena: 3, centena: 8, milhar: 1."
   ]
  },
  {
   "cell_type": "code",
   "execution_count": null,
   "id": "dca5a4ba",
   "metadata": {},
   "outputs": [],
   "source": []
  },
  {
   "cell_type": "markdown",
   "id": "7456be9b",
   "metadata": {},
   "source": [
    "## Questao 24\n",
    "\n",
    "### Crie um programa que leia o nome de uma cidade e diga se ela comeca ou nao com nome \"SANTO\". "
   ]
  },
  {
   "cell_type": "code",
   "execution_count": null,
   "id": "a1d8fd0d",
   "metadata": {},
   "outputs": [],
   "source": []
  },
  {
   "cell_type": "markdown",
   "id": "cc6aa768",
   "metadata": {},
   "source": [
    "## Questao 25\n",
    "\n",
    "### Crie um programa que leia o nome de uma pessoa e diga se ela tem \"SILVA\" no nome."
   ]
  },
  {
   "cell_type": "code",
   "execution_count": null,
   "id": "bbdfd4ad",
   "metadata": {},
   "outputs": [],
   "source": []
  },
  {
   "cell_type": "markdown",
   "id": "771e5fa7",
   "metadata": {},
   "source": [
    "## Questao 26\n",
    "\n",
    "### Faca um programa que leia uma frase pelo teclado e mostre:\n",
    "\n",
    "<b> * Quantas vezes parece a letra \"A\"\n",
    "<br> * EM que posicao ela aparece a primeira vez.\n",
    "<br> * EM que posicao ela aparece a ultima vez."
   ]
  },
  {
   "cell_type": "code",
   "execution_count": null,
   "id": "8b2b3e2f",
   "metadata": {},
   "outputs": [],
   "source": []
  },
  {
   "cell_type": "markdown",
   "id": "73ee715a",
   "metadata": {},
   "source": [
    "## Questao 27\n",
    "\n",
    "### Faca um programa que leia o nome completo de uma pessoa, mostrando em seguida o primeiro e o ultimo nome separadamente.\n",
    "\n",
    "**Ex: Ana Maria de Souza**\n",
    "<br> primeiro = **Ana**\n",
    "<br> ultimo = **Souza**"
   ]
  },
  {
   "cell_type": "code",
   "execution_count": null,
   "id": "df4f5d9b",
   "metadata": {},
   "outputs": [],
   "source": []
  },
  {
   "cell_type": "markdown",
   "id": "3ebac8e8",
   "metadata": {},
   "source": [
    "## Questao 28\n",
    "\n",
    "### Escreva um programa que faca o computador \"pensar\" em um numero inteiro entre 0 e 5 e peca para usuario tentar descobrir qual foi o numero escolhido pelo computador. O programa devera escrever na tela se o usuario venceu ou perdeu."
   ]
  },
  {
   "cell_type": "code",
   "execution_count": null,
   "id": "70dacbe5",
   "metadata": {},
   "outputs": [],
   "source": []
  },
  {
   "cell_type": "markdown",
   "id": "f4a31bda",
   "metadata": {},
   "source": [
    "## Questao 29\n",
    "\n",
    "### Escreva um programa que leia a velocidade de um carro.\n",
    "### Se ela ultrapassar 80km/h, mstra uma mensagem dizendo que ele foi multado.\n",
    "### A multa vai custar RS7,00 por cada km acima do limite."
   ]
  },
  {
   "cell_type": "code",
   "execution_count": null,
   "id": "6f1f9e4c",
   "metadata": {},
   "outputs": [],
   "source": []
  },
  {
   "cell_type": "markdown",
   "id": "4bdc4e49",
   "metadata": {},
   "source": [
    "## Questao 30\n",
    "\n",
    "### Crie um programa qie leia um numero intiero e mostre na tela se ele eh PAR ou IMPAR"
   ]
  },
  {
   "cell_type": "code",
   "execution_count": null,
   "id": "eb9ad7e7",
   "metadata": {},
   "outputs": [],
   "source": []
  },
  {
   "cell_type": "markdown",
   "id": "683ff581",
   "metadata": {},
   "source": [
    "## Questao 31\n",
    "\n",
    "### Desenvolva um programa que pergunte a distancia de uma viagem em km. Calcule o preco da passagem, cobrando RS0,50 por km para viagen de ate 200km e RS0,45 para viagens mais longas."
   ]
  },
  {
   "cell_type": "code",
   "execution_count": null,
   "id": "f36d506a",
   "metadata": {},
   "outputs": [],
   "source": []
  },
  {
   "cell_type": "markdown",
   "id": "1dd03a66",
   "metadata": {},
   "source": [
    "## Questao 32\n",
    "\n",
    "### Faca um programa que leia um ano qualquer e mostre se ele eh bissexto."
   ]
  },
  {
   "cell_type": "code",
   "execution_count": null,
   "id": "5e92040c",
   "metadata": {},
   "outputs": [],
   "source": []
  },
  {
   "cell_type": "markdown",
   "id": "1469d0a3",
   "metadata": {},
   "source": [
    "## Questao 33\n",
    "\n",
    "### Faca um programa que leia tres numeros e mostre qual eh o maior e qual eh o menor"
   ]
  },
  {
   "cell_type": "code",
   "execution_count": null,
   "id": "0ae8be4b",
   "metadata": {},
   "outputs": [],
   "source": []
  },
  {
   "cell_type": "markdown",
   "id": "e72d9b53",
   "metadata": {},
   "source": [
    "## Questao 34\n",
    "\n",
    "### Escreva um programa que pergunte o salario de um funcionario e calcule o valor do seu aumento. Para salarios superiores  RS1.250,00 , calcule um aumento de 10%. Para os inferiores ou iguais, o aumento eh de 15%."
   ]
  },
  {
   "cell_type": "code",
   "execution_count": null,
   "id": "41a3d800",
   "metadata": {},
   "outputs": [],
   "source": []
  },
  {
   "cell_type": "markdown",
   "id": "2a698e2c",
   "metadata": {},
   "source": [
    "## Questao 35\n",
    "\n",
    "### Desenvolva um programa que leia o comprimento de tres retas e dga ao usuario se elas podem ou nao formar um triangulo."
   ]
  },
  {
   "cell_type": "code",
   "execution_count": null,
   "id": "ed36332f",
   "metadata": {},
   "outputs": [],
   "source": []
  },
  {
   "cell_type": "markdown",
   "id": "3b189906",
   "metadata": {},
   "source": [
    "## Questao 36\n",
    "\n",
    "### Escreva um programa para aprovar o emprestimo bancario para a compra de uma casa. Pergunte o valor da casa, o salario do comprador e em quantos anos ele vai pagar. A prestacao mensal, nao pode exceder 30% do salario ou entao o emrestimo sera negado."
   ]
  },
  {
   "cell_type": "code",
   "execution_count": null,
   "id": "b7466835",
   "metadata": {},
   "outputs": [],
   "source": []
  },
  {
   "cell_type": "markdown",
   "id": "b8675be9",
   "metadata": {},
   "source": [
    "## Questao 37\n",
    "\n",
    "### Escreva um programa que leia um numero inteiro qualquer e peca para o usuario escolher qual sera a base de conversao: <br><center> 1.para binario, <br> 2. para octal <br> 3. para hexadecimal"
   ]
  },
  {
   "cell_type": "code",
   "execution_count": null,
   "id": "dc0883b9",
   "metadata": {},
   "outputs": [],
   "source": []
  },
  {
   "cell_type": "markdown",
   "id": "c4b32265",
   "metadata": {},
   "source": [
    "## Questao 38\n",
    "\n",
    "### Escreva um programa que leia dois numeros inteiros e compare-os mostrando na tela uma mensagem: <br><center> * O primeiro valor eh maior <br> * O segundo valor eh maior <br> * Nao existe o valor maior, os dois sao iguais."
   ]
  },
  {
   "cell_type": "code",
   "execution_count": null,
   "id": "77591f8a",
   "metadata": {},
   "outputs": [],
   "source": []
  },
  {
   "cell_type": "markdown",
   "id": "8ec8cca5",
   "metadata": {},
   "source": [
    "## Questao 39\n",
    "\n",
    "### Faca um programa que leia o ano de nascimento de um jovem e informe, de acordo com sua idade. se ele ainda vai se alistar ao servico militar, se eh a hora de se alistar ou se ja passou do tempo do alistamento. Seu programa tambem devera mostrar tempo que falta ou que passou do prazo."
   ]
  },
  {
   "cell_type": "code",
   "execution_count": null,
   "id": "e2a87efa",
   "metadata": {},
   "outputs": [],
   "source": []
  },
  {
   "cell_type": "markdown",
   "id": "6279d4d0",
   "metadata": {},
   "source": [
    "## Questao 40\n",
    "\n",
    "### Crie um programa que leia duas notas de um aluno e calcule sua media, mostrando uma mansagem no final, de acordo com media atingido: <br><center> * Media abaixo  de 5.0 : REPROVACAO <br> * MEdia entre 5.0 e 6.9: RECUPERACAO <br> * Media 7.0 ou superior: APROVADO"
   ]
  },
  {
   "cell_type": "code",
   "execution_count": null,
   "id": "383c2cd7",
   "metadata": {},
   "outputs": [],
   "source": []
  },
  {
   "cell_type": "markdown",
   "id": "b5189d59",
   "metadata": {},
   "source": [
    "## QUestao 41\n",
    "\n",
    "### A confederacao Nacional de Natacao precisa de um programa que leia o ano de nascimento de um atleta e mostre sua categoria, de acordo com a idade: <br><center> * Ate 9 anos: MIRIM. <br> * Ate 14 anos: INFANTIL. <br> * Ate 19 anos: JUNIOR. <br> * Ate 25 anos: SENIOR. <br> Acima: MASTER"
   ]
  },
  {
   "cell_type": "code",
   "execution_count": null,
   "id": "58034c49",
   "metadata": {},
   "outputs": [],
   "source": []
  },
  {
   "cell_type": "markdown",
   "id": "2c2eeb3b",
   "metadata": {},
   "source": [
    "## Questao 42\n",
    "\n",
    "### Refaca o DESAFIO 35 dos triangulos, acrescentando o recurso de mostrar que tipo de triangulo sera formado: <br> <center> * Equilatero : todos os lados iguais. <br> * Isosceles : Dois ldos iguais. <br> * Escaleno : Todos os lados diferentes"
   ]
  },
  {
   "cell_type": "code",
   "execution_count": null,
   "id": "fb777df8",
   "metadata": {},
   "outputs": [],
   "source": []
  },
  {
   "cell_type": "markdown",
   "id": "10e4f1f6",
   "metadata": {},
   "source": [
    "## Questao 43\n",
    "\n",
    "### Desenvolvaa uma logica que leia o peso e altura de uma pessoa, calcule seu IMC e mostre seu status, de acordo com a tabela abaixo: <br> <center> * Abaixo de 18.5 : Abaixo do peso. <br> * Entre 18.5 e 25 : Peso Ideal. <br> * 25 ate 30: Sobrepeso. <br> * 30 ate 40: Obesidade. <br> * Acima de 40: Obesidade morbida"
   ]
  },
  {
   "cell_type": "code",
   "execution_count": null,
   "id": "14561950",
   "metadata": {},
   "outputs": [],
   "source": []
  },
  {
   "cell_type": "markdown",
   "id": "a902ad0b",
   "metadata": {},
   "source": [
    "## Questao 44\n",
    "\n",
    "### Elabore um prohrama que calcule o valor a ser pago por um produto, considerando o seu preco normal e condicao de pagamento: <br><center> * A vista dinheiro/cheque : 10% de desconto. <br> * A vista no cartao: 5% de desconto. <br> * EM ate 2x no cartao: preco normal. <br> * 3x ou mais no cartao: 20% de juros"
   ]
  },
  {
   "cell_type": "code",
   "execution_count": null,
   "id": "80ab0f44",
   "metadata": {},
   "outputs": [],
   "source": []
  },
  {
   "cell_type": "markdown",
   "id": "c7eb7f33",
   "metadata": {},
   "source": [
    "## QUestao 45\n",
    "\n",
    "### Crie um programa que faca o computador jogar Jokenpo com voce."
   ]
  },
  {
   "cell_type": "code",
   "execution_count": null,
   "id": "e7ce8f8b",
   "metadata": {},
   "outputs": [],
   "source": []
  },
  {
   "cell_type": "markdown",
   "id": "1a65b673",
   "metadata": {},
   "source": [
    "## Questao 46 \n",
    "\n",
    "### Faca um programa que mostre na tela uma contagem regressiva para o estouro de fogod artificio, indo de 10 ate 0, com uma pausa de 1 segundo entre eles."
   ]
  },
  {
   "cell_type": "code",
   "execution_count": null,
   "id": "7903b5e6",
   "metadata": {},
   "outputs": [],
   "source": []
  },
  {
   "cell_type": "markdown",
   "id": "0b7d914c",
   "metadata": {},
   "source": [
    "## Questao 47\n",
    "\n",
    "### Crie um programa que mostre na tela todos os numeros pares que estao no intervalo entre 1 e 50."
   ]
  },
  {
   "cell_type": "code",
   "execution_count": null,
   "id": "217526aa",
   "metadata": {},
   "outputs": [],
   "source": []
  },
  {
   "cell_type": "markdown",
   "id": "5b0a76c7",
   "metadata": {},
   "source": [
    "## Questao 48\n",
    "\n",
    "### Faca um programa que calcule a soma entre os numeros impares que sao multiplos de tres e que se encontram no intervalo de 1 ate 500."
   ]
  },
  {
   "cell_type": "code",
   "execution_count": null,
   "id": "643efc02",
   "metadata": {},
   "outputs": [],
   "source": []
  },
  {
   "cell_type": "markdown",
   "id": "1946c8f8",
   "metadata": {},
   "source": [
    "## Questao 49\n",
    "\n",
    "### Refaca o DESAFIO 9, mostrando a tabuada de um numero que o usuario escolher, so que agora utilizando um laco for."
   ]
  },
  {
   "cell_type": "code",
   "execution_count": null,
   "id": "f4d2f940",
   "metadata": {},
   "outputs": [],
   "source": []
  },
  {
   "cell_type": "markdown",
   "id": "dc5df7d8",
   "metadata": {},
   "source": [
    "## Questao 50\n",
    "\n",
    "### Desenvolva um program que leia seis numeros inteiros e mostre a soma apenas daquelas que forem pares. Se o valor digito for impar, desconsidera-o."
   ]
  },
  {
   "cell_type": "code",
   "execution_count": null,
   "id": "95a2dabb",
   "metadata": {},
   "outputs": [],
   "source": []
  },
  {
   "cell_type": "markdown",
   "id": "5fc42755",
   "metadata": {},
   "source": [
    "## Questao 51\n",
    "\n",
    "### Desenvolva um programa que leia o numero primeiro termo e a razao de uma PA. No final, mostre os 10 primeiros termos dessa progressao."
   ]
  },
  {
   "cell_type": "code",
   "execution_count": null,
   "id": "fc6f21b3",
   "metadata": {},
   "outputs": [],
   "source": []
  },
  {
   "cell_type": "markdown",
   "id": "4706c6ab",
   "metadata": {},
   "source": [
    "## Questao 52\n",
    "\n",
    "### Faca um programa que leia um numero inteiro e diga se ele eh ou nao um numero primo."
   ]
  },
  {
   "cell_type": "code",
   "execution_count": null,
   "id": "7208ec0a",
   "metadata": {},
   "outputs": [],
   "source": []
  },
  {
   "cell_type": "markdown",
   "id": "3186ca3b",
   "metadata": {},
   "source": [
    "## Questao 53\n",
    "\n",
    "### Crie um programa que leia uma frase qualquer e diga se ela eh um palindromo, desconsiderando os espacos."
   ]
  },
  {
   "cell_type": "code",
   "execution_count": null,
   "id": "9f0cf41f",
   "metadata": {},
   "outputs": [],
   "source": []
  },
  {
   "cell_type": "markdown",
   "id": "9470be79",
   "metadata": {},
   "source": [
    "## Questao 54\n",
    "\n",
    "### Crie um programa que leia o ano de nascimento de ste pessoas. No final, mostre quantas pessoas ainda nao atingiram a maioridade e quantas ja sao maiores."
   ]
  },
  {
   "cell_type": "code",
   "execution_count": null,
   "id": "9f18bcdf",
   "metadata": {},
   "outputs": [],
   "source": []
  },
  {
   "cell_type": "markdown",
   "id": "b716c0a4",
   "metadata": {},
   "source": [
    "## Questao 55\n",
    "\n",
    "### Faca um programa que leia o peso de cinco pessoas. No final, mostre qual foi a maior e o menor peso lidos."
   ]
  },
  {
   "cell_type": "code",
   "execution_count": null,
   "id": "971c2cb0",
   "metadata": {},
   "outputs": [],
   "source": []
  },
  {
   "cell_type": "markdown",
   "id": "b484695c",
   "metadata": {},
   "source": [
    "## Questao 56\n",
    "\n",
    "### Desenvolva um programa que leia o nome, idade e sexo de 4 pessoas. No final do programa, mostre: <br><center> - A media da idade do grupo. <br> - QUal eh o nome do homem mais velho. <br> - Quantas mulheres tem menos de 20 anos."
   ]
  },
  {
   "cell_type": "code",
   "execution_count": null,
   "id": "176767a3",
   "metadata": {},
   "outputs": [],
   "source": []
  },
  {
   "cell_type": "markdown",
   "id": "934ab886",
   "metadata": {},
   "source": [
    "## QUestao 57\n",
    "\n",
    "### Faca um programa que leia  o sexo de uma pessoa, mas so aceite os valores \"M\" ou \"F\". Caso esteja errado, peca a digitacao novamente ate ter um valor correto."
   ]
  },
  {
   "cell_type": "code",
   "execution_count": null,
   "id": "a89b9a37",
   "metadata": {},
   "outputs": [],
   "source": []
  },
  {
   "cell_type": "markdown",
   "id": "bfadeb52",
   "metadata": {},
   "source": [
    "## Questao 58\n",
    "\n",
    "### Melhore o jogo do DESAFIO 28 onde computador vai \"pensar\" em um numero entre 0 e 10. So que agora o jogador vai tentar adivinhar ate acertar, mostrando no finl quantos palpites foram necssarios para vencer."
   ]
  },
  {
   "cell_type": "code",
   "execution_count": null,
   "id": "2e42040d",
   "metadata": {},
   "outputs": [],
   "source": []
  },
  {
   "cell_type": "markdown",
   "id": "585da741",
   "metadata": {},
   "source": [
    "## Questao 59\n",
    "\n",
    "### Crie um program que leia dois valores e mostre um menu como o ao lado na tela: <br> Seu programa devera realizar a operacao solicitada em cada caso."
   ]
  },
  {
   "cell_type": "code",
   "execution_count": null,
   "id": "d7f3ac03",
   "metadata": {},
   "outputs": [],
   "source": []
  },
  {
   "cell_type": "markdown",
   "id": "7958e1d6",
   "metadata": {},
   "source": [
    "## Questao 60\n",
    "\n",
    "### Faca um programa que leia um numero qualquer e mostre o seu fatorial. \n",
    "\n",
    "**Ex:** \n",
    "<br> 5! = 5x4x3x2x1 = 120"
   ]
  },
  {
   "cell_type": "code",
   "execution_count": null,
   "id": "a14f5d2f",
   "metadata": {},
   "outputs": [],
   "source": []
  },
  {
   "cell_type": "markdown",
   "id": "f7da43a8",
   "metadata": {},
   "source": [
    "## Questao 61\n",
    "\n",
    "### Refaca o DESAFIO 51, lendo o primeiro termo e a razao de uma PA, mostrando os 10 primeiros termos da progressao usando a estrutura *while*."
   ]
  },
  {
   "cell_type": "code",
   "execution_count": null,
   "id": "4fdfbf3a",
   "metadata": {},
   "outputs": [],
   "source": []
  },
  {
   "cell_type": "markdown",
   "id": "d2261a48",
   "metadata": {},
   "source": [
    "## Questao 62\n",
    "\n",
    "### Melhore o DESAFIO 61, perguntando para o usuario se ele quer mostrar mais alguns termos/ O programa encerra quando ele disser que quer mostrar 0 termos."
   ]
  },
  {
   "cell_type": "code",
   "execution_count": null,
   "id": "d5fb1a3e",
   "metadata": {},
   "outputs": [],
   "source": []
  },
  {
   "cell_type": "markdown",
   "id": "207d2f14",
   "metadata": {},
   "source": [
    "## Questao 63\n",
    "\n",
    "### Escreva um progrma que leia um numero n inteiro qualquer e mostre na tela primeiros elementos de uma Sequencia Fibonacci.\n",
    "**Ex:**\n",
    "0->1->1->2->3->5->8..."
   ]
  },
  {
   "cell_type": "code",
   "execution_count": null,
   "id": "c424052b",
   "metadata": {},
   "outputs": [],
   "source": []
  },
  {
   "cell_type": "markdown",
   "id": "2d05095a",
   "metadata": {},
   "source": [
    "## Questao 64\n",
    "\n",
    "### Crie um programa que leia varios numeros inteiros pelo tecado. O programa so vai parar quando o usuario digitar o valor 999, que e condicao de parada. No final, mostre quantos numeros fora digitados e qual foi a soma entre eles (*desconsiderando o flag*)."
   ]
  },
  {
   "cell_type": "code",
   "execution_count": null,
   "id": "67aee651",
   "metadata": {},
   "outputs": [],
   "source": []
  },
  {
   "cell_type": "markdown",
   "id": "6909030f",
   "metadata": {},
   "source": [
    "## Questao 65\n",
    "\n",
    "### Crie um programa que leia varios numeros inteiros pelo teclado. NO final da execucao, mostre a media entre todos valores e qual foi o maior e o menor valores lidos. O programa deve perguntar ao usuario se ele quer ou nao continuar a digitar valores."
   ]
  },
  {
   "cell_type": "code",
   "execution_count": null,
   "id": "48c8484d",
   "metadata": {},
   "outputs": [],
   "source": []
  },
  {
   "cell_type": "markdown",
   "id": "02091828",
   "metadata": {},
   "source": [
    "## Questao 66\n",
    "\n",
    "### Crie um programa que leia varios numeros inteiros pelo teclado. O programa so vai parar quando o usuario digitar o valor 999, que a condicao de parada. No final, mostre quantos numeros foram digitados e qual foi a soma entre eles (*desconsiderando o flag*)."
   ]
  },
  {
   "cell_type": "code",
   "execution_count": null,
   "id": "13b5abe0",
   "metadata": {},
   "outputs": [],
   "source": []
  },
  {
   "cell_type": "markdown",
   "id": "24811b2d",
   "metadata": {},
   "source": [
    "## Questao 67\n",
    "\n",
    "### Faca um programa que mostre tabuada de varios numeros, um de cada vez, para cada vlor digitado pelo usuario. O programa sera interrompido quando o numero solicitado for negativo."
   ]
  },
  {
   "cell_type": "code",
   "execution_count": null,
   "id": "60de16b4",
   "metadata": {},
   "outputs": [],
   "source": []
  },
  {
   "cell_type": "markdown",
   "id": "878b5c8e",
   "metadata": {},
   "source": [
    "## Questao 68\n",
    "\n",
    "### Faca um programa que jogue par ou impar com computador. O jogo so sera interrompido quando o jogador perder, mostrando o total de vitorias consecutivas que ele conquistou no final do jogo."
   ]
  },
  {
   "cell_type": "code",
   "execution_count": null,
   "id": "1919678d",
   "metadata": {},
   "outputs": [],
   "source": []
  },
  {
   "cell_type": "markdown",
   "id": "c3e319b8",
   "metadata": {},
   "source": [
    "## Questao 69\n",
    "\n",
    "### Crie um programa que leia a idade e o sexo de varios pessoas. A cada pessoa cadastrada, o programa devera perguntar se o usuario quer ou nao continuar. No final, mostre: <br><center> A) Quantas pessoas tem mais de 18 anos. <br> B) Quantos homens foram cadastrados. <br> C) Quantas mulheres tem menos de 20 anos."
   ]
  },
  {
   "cell_type": "code",
   "execution_count": null,
   "id": "fdc8675a",
   "metadata": {},
   "outputs": [],
   "source": []
  },
  {
   "cell_type": "markdown",
   "id": "b75c5f3d",
   "metadata": {},
   "source": [
    "## Questao 70\n",
    "\n",
    "### Crie um programa que leia o nome e o preco de varios produtos. O programa devera perguntar se o usuario  vai continuar. Np final, mostre: <br> <center> A) Qual eh o total gasto na compra. <br> B) Quantos produtos custam mais de RS1000,00 . <br> C) Qual eh o nome do produto mais barato."
   ]
  },
  {
   "cell_type": "code",
   "execution_count": null,
   "id": "0e5015d0",
   "metadata": {},
   "outputs": [],
   "source": []
  },
  {
   "cell_type": "markdown",
   "id": "36902ec0",
   "metadata": {},
   "source": [
    "## Questao 71\n",
    "\n",
    "### Crie um programa que simule o funcionamento de um  caixa eletronico. No inicio, pergunte ao usuario qual sera o valor sacado (*numero inteiro*) e o programa vai informar quantas cedulas de vada valor sera entregues. <br> OBS: Considere que caixa possui cedulas de RS50 , RS20 , RS10 e RS1."
   ]
  },
  {
   "cell_type": "code",
   "execution_count": null,
   "id": "f4734b8e",
   "metadata": {},
   "outputs": [],
   "source": []
  },
  {
   "cell_type": "markdown",
   "id": "411313a1",
   "metadata": {},
   "source": [
    "## Questao 72\n",
    "\n",
    "### Crei um programa que tenha uma tupla totalmente preenchida com uma contagem por extenso, de zero ate vinte. <br> Seu programa devera ler um numero pelo tecledo (*entre 0 e 20*) e mostra-lo por extenso."
   ]
  },
  {
   "cell_type": "code",
   "execution_count": null,
   "id": "a27732c2",
   "metadata": {},
   "outputs": [],
   "source": []
  },
  {
   "cell_type": "markdown",
   "id": "2ada042b",
   "metadata": {},
   "source": [
    "## Questao 73\n",
    "\n",
    "### Crie uma tupla preenchida com os 20 primeirps colocados na Tabela do Campeanato Brasileiro de Futebol, na ordem de colocacao. Depois mostre: <br><center> A) Os primeiros. <br> B) Os ultimos 4 colocados. <br> C) Times em ordem alfabetica. <br> D) EM que posicao esta o time da Chapecoensa."
   ]
  },
  {
   "cell_type": "code",
   "execution_count": null,
   "id": "7c0bf3f8",
   "metadata": {},
   "outputs": [],
   "source": []
  },
  {
   "cell_type": "markdown",
   "id": "336aae95",
   "metadata": {},
   "source": [
    "## Questao 74\n",
    "\n",
    "### Crie um programa que vai gerar cinco numeros aleatorios e colocar em uma tupla. Depois disso, mostre a listagem de numeros gerados e tambem indique o menor e o mau=ior valor que estao na tupla."
   ]
  },
  {
   "cell_type": "code",
   "execution_count": null,
   "id": "9fbd72cb",
   "metadata": {},
   "outputs": [],
   "source": []
  },
  {
   "cell_type": "markdown",
   "id": "5e910400",
   "metadata": {},
   "source": [
    "## Questao 75\n",
    "\n",
    "### Desenvolva um programa que leia quatro valor pelo teclado e guarde-os em uma tupla. No final, mostre: <br><center> A) Quantas vezes apareceu o valor 9. <br> B) EM que posicao foi digitado o primeito valor 3. <br> C) Quais foram os numeros pares."
   ]
  },
  {
   "cell_type": "code",
   "execution_count": null,
   "id": "937516ed",
   "metadata": {},
   "outputs": [],
   "source": []
  },
  {
   "cell_type": "markdown",
   "id": "6a837195",
   "metadata": {},
   "source": [
    "## Questao 76 \n",
    "\n",
    "### Crie um programa que tenha uma tupla unica com nomes de produtos e seus respectivos precos, na sequencia. No final, mostre um listagem de precos, organizando os dados em forma tabular."
   ]
  },
  {
   "cell_type": "code",
   "execution_count": null,
   "id": "0676ae13",
   "metadata": {},
   "outputs": [],
   "source": []
  },
  {
   "cell_type": "markdown",
   "id": "90127808",
   "metadata": {},
   "source": [
    "## Questao 77\n",
    "\n",
    "### Crie um programa que tenha uma tupla com varias palavras (*nao usar acentos*). Depois disso, voce deve mostrar, para cada palavra, quais sao suas vogais."
   ]
  },
  {
   "cell_type": "code",
   "execution_count": null,
   "id": "ef152748",
   "metadata": {},
   "outputs": [],
   "source": []
  },
  {
   "cell_type": "markdown",
   "id": "20cd7413",
   "metadata": {},
   "source": [
    "## Questao 78\n",
    "\n",
    "### Faca um programa que leia 5 valores numericos e guarde0os em uma lista. No final, mostre qual foi o maior e o menor valor digitado e as suas respectivas posicoes na lista."
   ]
  },
  {
   "cell_type": "code",
   "execution_count": null,
   "id": "994ba54b",
   "metadata": {},
   "outputs": [],
   "source": []
  },
  {
   "cell_type": "markdown",
   "id": "0fc92303",
   "metadata": {},
   "source": [
    "## Questao 79\n",
    "\n",
    "### Crie um programa onde o usuario possa digitar varios valores numericos e cadste-os em uma lista. Caso o numero ja exista la dentro, ele nao sera adicionado. No final, sera exibidos todos os valores unicos digitados, em ordem crescente."
   ]
  },
  {
   "cell_type": "code",
   "execution_count": null,
   "id": "a7f708f6",
   "metadata": {},
   "outputs": [],
   "source": []
  },
  {
   "cell_type": "markdown",
   "id": "2b80b6f9",
   "metadata": {},
   "source": [
    "## Questao 80\n",
    "\n",
    "### Crie um porgrama onde o usuario possa digitar cinco valores numericos e cadastre-os em uma lista, ja na posicao correta de insercao (*sem usar sort()*). No final, mostre a lista ordenada na tela."
   ]
  },
  {
   "cell_type": "code",
   "execution_count": null,
   "id": "33c7dab0",
   "metadata": {},
   "outputs": [],
   "source": []
  },
  {
   "cell_type": "markdown",
   "id": "b7a2aad7",
   "metadata": {},
   "source": [
    "## Questao 81\n",
    "\n",
    "### Crie um programa que vai ler varios numeros e colocar um uma lista. Depois disso, mostre: <br><center> A) Quantos numeros foram digitados. <br> B) A lista de valores, ordenada de forma decrescente. <br> C) Se o valor 5 foi digitado e esta ou nao na lista."
   ]
  },
  {
   "cell_type": "code",
   "execution_count": null,
   "id": "bd671ecd",
   "metadata": {},
   "outputs": [],
   "source": []
  },
  {
   "cell_type": "markdown",
   "id": "91a79266",
   "metadata": {},
   "source": [
    "## Questao 82\n",
    "\n",
    "### Crie  um programa que vai ler varios numeros e colocar em uma lista. Depois disso, crie duas listas extras que vao conter qpenas os valores pares e os valores impares digitados, respectivamente. Ao final, mostre o conteudo das tres listas geradas."
   ]
  },
  {
   "cell_type": "code",
   "execution_count": null,
   "id": "aa41e5c8",
   "metadata": {},
   "outputs": [],
   "source": []
  },
  {
   "cell_type": "markdown",
   "id": "e40e929e",
   "metadata": {},
   "source": [
    "## Questao 83\n",
    "\n",
    "### Crie um programa onde o usuario digite uma expressao qualquer que use parenteses. Seu aplicativo devera analisar se a expressao passada esta com parenteses abertos e fechdos na ordem correta."
   ]
  },
  {
   "cell_type": "code",
   "execution_count": null,
   "id": "9efecf6a",
   "metadata": {},
   "outputs": [],
   "source": []
  },
  {
   "cell_type": "markdown",
   "id": "04d37759",
   "metadata": {},
   "source": [
    "## Questao 84\n",
    "\n",
    "### Faca um programa que leia nome e peso de varias pessoas, guardando tudo em uma lista. No final, mostre: <br><center> A) Quantas pessoas foram cadastradas. <br> B) Uma listagem com as pessoas mais pesadas. <br> C) Uma listagem com as pessoas mais leves."
   ]
  },
  {
   "cell_type": "code",
   "execution_count": null,
   "id": "959641a3",
   "metadata": {},
   "outputs": [],
   "source": []
  },
  {
   "cell_type": "markdown",
   "id": "89937023",
   "metadata": {},
   "source": [
    "## Questao 85\n",
    "\n",
    "### Crie um programa onde o usuario possa digitar sete valores numericos e cadastre-os em  uma lista unica que mantenha separados os valores pares e impares. No final, mostre os valores pares e impares em ordem crescente."
   ]
  },
  {
   "cell_type": "code",
   "execution_count": null,
   "id": "e1509bfa",
   "metadata": {},
   "outputs": [],
   "source": []
  },
  {
   "cell_type": "markdown",
   "id": "e3058c24",
   "metadata": {},
   "source": [
    "## Questao 86\n",
    "\n",
    "### Crie um programa que crie uma matriz de dimensao 3x3 e preencha com valores lidos pelo teclado. No final, mostre a matriz na tela, vom a formatacao correta."
   ]
  },
  {
   "cell_type": "code",
   "execution_count": null,
   "id": "5e112c2f",
   "metadata": {},
   "outputs": [],
   "source": []
  },
  {
   "cell_type": "markdown",
   "id": "0dbb7b9a",
   "metadata": {},
   "source": [
    "## Questao 87\n",
    "\n",
    "### Aprimore o desafio anterior, mostrando no final: <br><center> A) A soma de todos os valores pares digitados. <br> B) A soma dos valores de terceira coluna. <br> C) O maior valor da segunda linha."
   ]
  },
  {
   "cell_type": "code",
   "execution_count": null,
   "id": "90c7be85",
   "metadata": {},
   "outputs": [],
   "source": []
  },
  {
   "cell_type": "markdown",
   "id": "3fffb9b6",
   "metadata": {},
   "source": [
    "## Questao 88\n",
    "\n",
    "### Faca um programa que ajude um jogador da MEGA SENA a criar palpites. O programa vai perguntar quantos jogos serao gerados e vai sortear 6 numeros entre 1 e 60 para cada jogo, cadastrando tudo em uma lista composta."
   ]
  },
  {
   "cell_type": "code",
   "execution_count": null,
   "id": "737426dd",
   "metadata": {},
   "outputs": [],
   "source": []
  },
  {
   "cell_type": "markdown",
   "id": "ace717fb",
   "metadata": {},
   "source": [
    "## Questao 89\n",
    "\n",
    "### Crie um programa que leia nome e duas notas de varios alunos e guarde tudo em uma lista composta. No final, mostre um boletim contendo a media de cada um e permita que o usuario possa mostrar as notas de cada aluno individualmetne."
   ]
  },
  {
   "cell_type": "code",
   "execution_count": null,
   "id": "c3f0ea9d",
   "metadata": {},
   "outputs": [],
   "source": []
  },
  {
   "cell_type": "markdown",
   "id": "bd1b3e20",
   "metadata": {},
   "source": [
    "## Questao 90\n",
    "\n",
    "### Faca um programa que leia nome e media de um aluno, guardando tambem a situacao em um dicionario. No final, nostre o conteudo da estrutura na tela."
   ]
  },
  {
   "cell_type": "code",
   "execution_count": null,
   "id": "908740f0",
   "metadata": {},
   "outputs": [],
   "source": []
  },
  {
   "cell_type": "markdown",
   "id": "9bbf23c5",
   "metadata": {},
   "source": [
    "## Questao 91\n",
    "\n",
    "### Crie um programa onde 4 jogadpres joguem um dado e tenham resultados aleatorios. Guarde esses resultados em um dicionairo. No final, coloque esse dicionario em ordem, sabendo que o vencedor tirou o maior numero do dado."
   ]
  },
  {
   "cell_type": "code",
   "execution_count": null,
   "id": "270215fa",
   "metadata": {},
   "outputs": [],
   "source": []
  },
  {
   "cell_type": "markdown",
   "id": "02e08e49",
   "metadata": {},
   "source": [
    "## Questao 92\n",
    "\n",
    "### Crie um programa que leia nome, ano de nascimento e carteira de trablaho e cadastre-os (*com idade*) em um dicionario se por acaso a CTPS for diferente de ZERO, o dicionario recebera tambem o ano de contratacao e o salario. Calcule e acrescente, alem da idade, com quantos anos a pessoa vai se aposentar."
   ]
  },
  {
   "cell_type": "code",
   "execution_count": null,
   "id": "ae260459",
   "metadata": {},
   "outputs": [],
   "source": []
  },
  {
   "cell_type": "markdown",
   "id": "1ab5d829",
   "metadata": {},
   "source": [
    "## Questao 93\n",
    "\n",
    "### Crie um programa que gerencie o aproveitaento de um jogador de futebol. O programa vai ler nome do jogador e quantas partidas ele jogou. Depois vai ler a quantidade de gols feitos em cada partida. No final,  tudo isso sera guardado em um dicionario, incluindo o total de gols feitos durante o campeonato."
   ]
  },
  {
   "cell_type": "code",
   "execution_count": null,
   "id": "aaf40c47",
   "metadata": {},
   "outputs": [],
   "source": []
  },
  {
   "cell_type": "markdown",
   "id": "56c80b5c",
   "metadata": {},
   "source": [
    "## Questao 94\n",
    "\n",
    "### Crie um programa que leia nome, sexo e idade de varias pessoas, guardando os dados de cada pessoa em um divionario e todos os dicionarios em uma lista. No final, mostre: <br> <center> A) Quantas pessoas cadastradas. <br> B) A media da idade. <br> C) Uma lista com mulheres. <br> C) Uma lista com idade acima da media."
   ]
  },
  {
   "cell_type": "code",
   "execution_count": null,
   "id": "7fb0e488",
   "metadata": {},
   "outputs": [],
   "source": []
  },
  {
   "cell_type": "markdown",
   "id": "6f8433d0",
   "metadata": {},
   "source": [
    "## Questao 95\n",
    "\n",
    "### Aprimore o DESAFIO 93 para que ela funcione com varios jogadores, incluindo um sistem de visualizacao de detalhes do aproveitamento de cada jogador."
   ]
  },
  {
   "cell_type": "code",
   "execution_count": null,
   "id": "500dbb88",
   "metadata": {},
   "outputs": [],
   "source": []
  },
  {
   "cell_type": "markdown",
   "id": "9e2a10c2",
   "metadata": {},
   "source": [
    "## QUestao 96\n",
    "\n",
    "### Faca um programa que tenha uma funcao chamada *AREA()*, que receba as dimensoes de um terreno retangular (Largura e comprimento) e mostre a area do terreno."
   ]
  },
  {
   "cell_type": "code",
   "execution_count": null,
   "id": "8242cdab",
   "metadata": {},
   "outputs": [],
   "source": []
  },
  {
   "cell_type": "markdown",
   "id": "4690c0cf",
   "metadata": {},
   "source": [
    "## Questap 97\n",
    "\n",
    "### Faca um programa que tenha uma funcao chamada *escreva()*, que receba um texto qualquer como parametro e mostre uma mensagem vcom tamanha adoptavel.\n",
    "\n",
    "**Ex:**\n",
    "<br> *escreva*('Ola, Mundo!')\n",
    "<br>**Saida:**\n",
    "<br>--------------\n",
    "<br>  Ola, Mundo!\n",
    "<br>--------------"
   ]
  },
  {
   "cell_type": "code",
   "execution_count": null,
   "id": "891ade36",
   "metadata": {},
   "outputs": [],
   "source": []
  },
  {
   "cell_type": "markdown",
   "id": "5bba72d0",
   "metadata": {},
   "source": [
    "## Questao 98\n",
    "\n",
    "### Faca um programa que tenha uma funcao chamada *contador()*, que receba tres parametros: iniciom fim e passso. Seu programa tem que realizar tres contagens atraves da funcao criada:<br><center> A) De 1 ate 10, de 1 em 1. <br> B) e 10 ate 9, de 2 em 2. <br> C) Uma contagem personalizada. "
   ]
  },
  {
   "cell_type": "code",
   "execution_count": null,
   "id": "a04fdfa8",
   "metadata": {},
   "outputs": [],
   "source": []
  },
  {
   "cell_type": "markdown",
   "id": "e21ce270",
   "metadata": {},
   "source": [
    "## Questao 99\n",
    "\n",
    "### Faca um programa que tenha uma funcao chamada *maior()*, que receba varios parametros com valores inteiros. Sei programa tem que analisar todos os valores e dizer qual deles eh o maior."
   ]
  },
  {
   "cell_type": "code",
   "execution_count": null,
   "id": "d3530fc9",
   "metadata": {},
   "outputs": [],
   "source": []
  },
  {
   "cell_type": "markdown",
   "id": "565bf112",
   "metadata": {},
   "source": [
    "## Questao 100\n",
    "\n",
    "### Faca um programa que tenha uma lista chamada numeros e duas funcoes chamadas *sorteia()* e *somaPar()*. A primeira funcao vai sortear 5 numeros e vai coloca-los dentro da lista e segunda funcao vai mostrar a soma entre todos os valores PARES sorteads pela funcao anterior."
   ]
  },
  {
   "cell_type": "code",
   "execution_count": null,
   "id": "8fb1f97d",
   "metadata": {},
   "outputs": [],
   "source": []
  },
  {
   "cell_type": "markdown",
   "id": "0e0edb7c",
   "metadata": {},
   "source": [
    "## Questao 101\n",
    "\n",
    "### Crie um programa que tenha uma funcai chamada *voto()* que vai receber como parametro o ano de nascimento da uma pessoa, retornando um valor literal indicando se uma pessia tem voto NEGADOm OPSIONAL ou OBRIGATORIO nas eleicoes."
   ]
  },
  {
   "cell_type": "code",
   "execution_count": null,
   "id": "90da79c3",
   "metadata": {},
   "outputs": [],
   "source": []
  },
  {
   "cell_type": "markdown",
   "id": "4b0f5e31",
   "metadata": {},
   "source": [
    "## Questao 102\n",
    "\n",
    "### Crie um programa que tenha funcao *fatorial()* que receba dois parametros: o primeiro que indiqueo numero a calcular e outro chamado show, que sera um valor logico(opcional) indicando se sera mostrdo ou nao na tela o processo de calculo do fatorial."
   ]
  },
  {
   "cell_type": "code",
   "execution_count": null,
   "id": "a2b025c5",
   "metadata": {},
   "outputs": [],
   "source": []
  },
  {
   "cell_type": "markdown",
   "id": "c8596d73",
   "metadata": {},
   "source": [
    "## Questao 103\n",
    "\n",
    "### Faca um programa que tenha uma funcao chamada *ficha()*, que receba dois parametros opcionais: o nome de um jogdor e quantos gols ele marcou. O programa devera ser capaz de mostrar a ficha dp jogador, mesmo que algum dado nao tenha sido informado corretaente."
   ]
  },
  {
   "cell_type": "code",
   "execution_count": null,
   "id": "2d9426ca",
   "metadata": {},
   "outputs": [],
   "source": []
  },
  {
   "cell_type": "markdown",
   "id": "fa06b3b6",
   "metadata": {},
   "source": [
    "## Questao 104 \n",
    "\n",
    "### Crie um programa que tenha a funcao *leiaInt()*, que vai funcionar de forma semelhante a funcao *input()* do Python, ao que fazendo a validacao para aceitar apenas um valor numerico.\n",
    "\n",
    "**Ex:**\n",
    "<br> n = leiaInt(\"Digite um n\")"
   ]
  },
  {
   "cell_type": "code",
   "execution_count": null,
   "id": "f20d4a56",
   "metadata": {},
   "outputs": [],
   "source": []
  },
  {
   "cell_type": "markdown",
   "id": "75eb533b",
   "metadata": {},
   "source": [
    "## Questao 105\n",
    "\n",
    "### Faca um programa que tenha uma funcao *notas()* que pode receber varias notas de alunos e vai retornar um dicionario com as seguintes informacoes:<br> <center> - Quantidade de notas. <br> - A amior nota. <br> - A menor nota. <br> - A media da turma. <br> - A situacao (opcional) Adicione tambem as docstrings."
   ]
  },
  {
   "cell_type": "code",
   "execution_count": null,
   "id": "b8a67ac5",
   "metadata": {},
   "outputs": [],
   "source": []
  },
  {
   "cell_type": "markdown",
   "id": "4c2df7f2",
   "metadata": {},
   "source": [
    "## Questao 106\n",
    "\n",
    "### Faca um mini-sistema que utilize o Interactive Help do Python. O usuario vai digitar o comando e o manual vai aparecer. Quando o usuario digitar a palavra \"FIM\", o programa se encerrara.\n",
    "\n",
    "**OBS: use cores**"
   ]
  },
  {
   "cell_type": "code",
   "execution_count": null,
   "id": "22695c78",
   "metadata": {},
   "outputs": [],
   "source": []
  },
  {
   "cell_type": "markdown",
   "id": "d4bf935a",
   "metadata": {},
   "source": [
    "## Questao 107\n",
    "\n",
    "### Cria um modulo chamado *moeda.py* que tenha as funcoe incorporadas *aumentar(), diminuir(), dobro() e metade()*. Faca tambem um programa que importe esse modulo e use algumas dessas funcoes."
   ]
  },
  {
   "cell_type": "code",
   "execution_count": null,
   "id": "0ae35f7b",
   "metadata": {},
   "outputs": [],
   "source": []
  },
  {
   "cell_type": "markdown",
   "id": "482f5e16",
   "metadata": {},
   "source": [
    "## Questao 108\n",
    "\n",
    "### Adapte o codiggo do DESAFIO 107, criando uma funcao adiciona; chamada *moeda()* que consiga mostrar os valores como um valor monetario formatado."
   ]
  },
  {
   "cell_type": "code",
   "execution_count": null,
   "id": "e9306d57",
   "metadata": {},
   "outputs": [],
   "source": []
  },
  {
   "cell_type": "markdown",
   "id": "bc869b00",
   "metadata": {},
   "source": [
    "## Questao 109\n",
    "\n",
    "### Modifique as funcoes foram criadas no DESAFIO 108 para que elas aceitem um parametro a mais, informando se o valor retornafo por elas vai ser ou nao formatado pela funcao *moeda()*, desenvolvida no DESAFIO 108."
   ]
  },
  {
   "cell_type": "code",
   "execution_count": null,
   "id": "063e3d69",
   "metadata": {},
   "outputs": [],
   "source": []
  },
  {
   "cell_type": "markdown",
   "id": "05c05201",
   "metadata": {},
   "source": [
    "## Questao 110\n",
    "\n",
    "### Adicione ao modulo *moeda.py* criado nos desafios anteriores, uma funcao chamada *resumo()*, que mostre na tela  algumas informacoes geradas pelas funoes quue ja temos no modulo criado ate aqui."
   ]
  },
  {
   "cell_type": "code",
   "execution_count": null,
   "id": "11c612a5",
   "metadata": {},
   "outputs": [],
   "source": []
  },
  {
   "cell_type": "markdown",
   "id": "b00d3393",
   "metadata": {},
   "source": [
    "## Questao 111\n",
    "\n",
    "### Crie um pacote chamado *utilidadeCev* que tenha dois modulos internos chamados moeda e dado. <br> Tranfira todas as funcoes utilizadas nos DESAFIOS 107, 108 e 109 para o primeiro pacote e mantenha tudo funcionando."
   ]
  },
  {
   "cell_type": "code",
   "execution_count": null,
   "id": "25dfc6a6",
   "metadata": {},
   "outputs": [],
   "source": []
  },
  {
   "cell_type": "markdown",
   "id": "b8629c5f",
   "metadata": {},
   "source": [
    "## Questao 112\n",
    "\n",
    "### Dentro do pacote *utilidadesCev* que criamos no DESAFIO 111, temos um modulo chamafo dado. Crie uma funcao chamada *leiaDinheiro()* que seja capaz de funcionar como a funcao *input()*, ms com uma validacao  de dados para aceitar apenas que sejam monetarios."
   ]
  },
  {
   "cell_type": "code",
   "execution_count": null,
   "id": "b82b96e0",
   "metadata": {},
   "outputs": [],
   "source": []
  },
  {
   "cell_type": "markdown",
   "id": "6af753e3",
   "metadata": {},
   "source": [
    "## Questao 113\n",
    "\n",
    "### Reescreva a funcao *leiaInt()* que fizemos no DESAFIO 104, incluindo agora a possibilidade de digitacao de um numero de tipo invalido. AProveite e cria tambem uma funcao *leiaFLoat()* com a mesma funcionalidade."
   ]
  },
  {
   "cell_type": "code",
   "execution_count": null,
   "id": "b8c5a9fe",
   "metadata": {},
   "outputs": [],
   "source": []
  },
  {
   "cell_type": "markdown",
   "id": "4befa999",
   "metadata": {},
   "source": [
    "## Questao 114\n",
    "\n",
    "### Crie um codigo em Python que teste se o site Pudim esta acessivel pelo computador usado."
   ]
  },
  {
   "cell_type": "code",
   "execution_count": null,
   "id": "df2be0af",
   "metadata": {},
   "outputs": [],
   "source": []
  },
  {
   "cell_type": "markdown",
   "id": "9d157dd1",
   "metadata": {},
   "source": [
    "## Questao 115\n",
    "\n",
    "### Crie um pequeno sistema modularizado que permita cadastrar pessoas pelo seu nome e idade em um arquivo de texto simples. <br> O sistema so vai ter 2 opcoes: cadastrar uma nova pessoa e listar todas as pessoas cadastradas."
   ]
  },
  {
   "cell_type": "code",
   "execution_count": null,
   "id": "30294902",
   "metadata": {},
   "outputs": [],
   "source": []
  }
 ],
 "metadata": {
  "kernelspec": {
   "display_name": "Python 3 (ipykernel)",
   "language": "python",
   "name": "python3"
  },
  "language_info": {
   "codemirror_mode": {
    "name": "ipython",
    "version": 3
   },
   "file_extension": ".py",
   "mimetype": "text/x-python",
   "name": "python",
   "nbconvert_exporter": "python",
   "pygments_lexer": "ipython3",
   "version": "3.9.7"
  }
 },
 "nbformat": 4,
 "nbformat_minor": 5
}
